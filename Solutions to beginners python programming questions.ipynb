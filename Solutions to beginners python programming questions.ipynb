{
 "cells": [
  {
   "cell_type": "markdown",
   "id": "38660c46",
   "metadata": {},
   "source": [
    "### <div align=\"center\">Fundamentals for Python Programming: Assignment Solutions"
   ]
  },
  {
   "cell_type": "markdown",
   "id": "0a6e41d2",
   "metadata": {},
   "source": [
    "<ol>\n",
    "   <body><b>Question 1:</b> “Rock-paper-scissors is a hand game that is played by two people. The players count to three in unison and simultaneously \"throw\" one of three hand signals that correspond to rock, paper or scissors. The winner is determined by the rules:</body>\n",
    "        <ul>\n",
    "        <li>Rock smashes scissors</li>\n",
    "        <li>Scissors cuts paper</li>\n",
    "        <li>Paper covers rock</li>\n",
    "        </ul>\n",
    "    <body>Rock-paper-scissors is a surprisingly popular game that many people play seriously (see the Wikipedia article for details).Write a Python program to ask the user’s choice of Rock paper scissors. The program then, randomly, chooses a choice for itself (the computer) and then compares it with the user’s choice. The final output should show, the user’s choice, the program’s choice and the winner. Sample runs are shown below:</body><br>\n",
    "    <body>Enter your choice: rock<br>\n",
    "          Computer chooses scissors<br> \n",
    "          You, the user, win!</body><br>\n",
    "    <br>\n",
    "    <body>Enter your choice: paper<br>\n",
    "          Computer chooses: scissors<br> \n",
    "          I, the computer, win!</body><br>\n",
    "    <br>\n",
    "    <body>Enter your choice: scissors<br> \n",
    "          Computer chooses scissors<br> \n",
    "          User and computer tie!</body><br>\n",
    "</ol>"
   ]
  },
  {
   "cell_type": "code",
   "execution_count": 24,
   "id": "ed6acf20",
   "metadata": {},
   "outputs": [
    {
     "name": "stdout",
     "output_type": "stream",
     "text": [
      "Enter your choice: rock\n",
      "Computer chooses: scissors\n",
      "User win!\n"
     ]
    }
   ],
   "source": [
    "import random                                                                                #Importing Function\n",
    "lst = ['rock', 'paper', 'scissors']\n",
    "usr = input(\"Enter your choice: \").lower()                                                   #Taking input from user\n",
    "usr_inp = usr                                                                                #Storing user's input in a variable\n",
    "Computer = random.choice(lst)                                                                #Storing computer's choice in a variable\n",
    "if usr_inp in lst:                                                                           #Loop and Condition check begins\n",
    "    if (usr_inp=='rock' and Computer=='scissors') or (usr_inp=='paper' and Computer=='rock') or (usr_inp== 'scissors' and Computer =='paper'):\n",
    "        print(\"Computer chooses:\", Computer)                                                 #Print computer's choice\n",
    "        print(\"User win!\")                                                                   #Print if user win\n",
    "    elif usr_inp==Computer:\n",
    "        print(\"Computer chooses:\", Computer)                                                 #Print computer's choice\n",
    "        print(\"User and computer tie!\")                                                      #Print incase there is a tie\n",
    "    else:\n",
    "        print(\"Computer chooses:\", Computer)                                                 #Print computer's choice\n",
    "        print(\"Computer win!\")                                                               #Print if computer win\n",
    "\n",
    "else:\n",
    "    print(\"Sorry your choice can't be recognized. Please re-enter.\")                         #Print for invalid input"
   ]
  },
  {
   "cell_type": "code",
   "execution_count": null,
   "id": "53177a7a",
   "metadata": {},
   "outputs": [],
   "source": []
  },
  {
   "cell_type": "markdown",
   "id": "270e438e",
   "metadata": {},
   "source": [
    "<ol>\n",
    "    <body><b>Question 2:</b> Write a program where the user and the program/computer trade places in the number guessing game. Prompt the user for a number (between 1 and 100, inclusive) that the program/computer has to guess. Keep track of the number of iterations it takes for the computer to guess the number. Sample runs are shown below:</body><br>\n",
    "    <body>Enter number to be guessed: 88<br>\n",
    "          You guessed 88, and it took the program 3 iterations</body><br>\n",
    "    <br>\n",
    "    <body>Enter number to be guessed: 55<br>\n",
    "          You guessed 55, and it took the program 19 iterations</body><br>\n",
    "</ol>"
   ]
  },
  {
   "cell_type": "code",
   "execution_count": 30,
   "id": "f1662793",
   "metadata": {},
   "outputs": [
    {
     "name": "stdout",
     "output_type": "stream",
     "text": [
      "Enter number to be guessed: 55\n",
      "You guessed number, 55 and it took the program 20 iterations\n"
     ]
    }
   ],
   "source": [
    "def compair(unum,cnum):                                                                                #function defined for comparing user entered number and computers guess\n",
    "    iter = 1                                                                                           #iteration variable initialized to one\n",
    "    \n",
    "    if cnum > unum:                                                                                    #if loop and condition check\n",
    "        while cnum != unum:\n",
    "            cnum -= 1                                                                                  #decrementing computer guess each time condition is false\n",
    "            iter += 1                                                                                  #incrementing iteration each time condition is false\n",
    "        print ('You guessed number,', unum,'and it took the program',iter, 'iterations')               #print when there is a match in numbers\n",
    "    elif cnum < unum:                                                                                  #elif block and condition check\n",
    "        while cnum != unum:                                                                            \n",
    "            cnum += 1                                                                                  #incrementing computer guess each time condition is false\n",
    "            iter += 1                                                                                  #incrementing iteration each time condition is false\n",
    "        print ('You guessed number,', unum,'and it took the program',iter, 'iterations')               #print when there is a match in numbers\n",
    "    else:                                                                                              #else block to be executed\n",
    "        print ('You guessed number,', unum,'and it took the program',iter, 'iterations')               #print when there is a match in numbers at very first iteration\n",
    "\n",
    "        \n",
    "try:                                                                                                   #try block\n",
    "    from random import randint                                                                         #importing randint from random module\n",
    "    num = int(input('Enter number to be guessed: '))                                                   #taking users input for the number to be guessed\n",
    "    if 1<=num<=100:                                                                                    #if block to check the number is within 1 to 100 inclusive\n",
    "        cnum = randint(1,100)                                                                          #computer guess user's number by calling randint inbuilt function\n",
    "        compair(num,cnum)                                                                              #calling function\n",
    "    else:                                                                                              #else block\n",
    "        print('Range error! Only numbers from 1 - 100 are allowed.')                                   #print statement if number is other that 1 - 100\n",
    "except:                                                                                                #except block to catch invalid input\n",
    "    print('Invalid input. Please provide the integer between 1 - 100.')"
   ]
  },
  {
   "cell_type": "code",
   "execution_count": null,
   "id": "b7763ac9",
   "metadata": {},
   "outputs": [],
   "source": []
  },
  {
   "cell_type": "markdown",
   "id": "446aed27",
   "metadata": {},
   "source": [
    "<ol>\n",
    "    <body><b>Question 3:</b> Write a function that accepts a line of text and a single letter as input and returns the number of times the letter is the first character of a word Sample runs are given below:</body><br>\n",
    "    <body>Enter your line of text: Where the mind is without fear and the head is held high<br>\n",
    "          Enter your letter to use: h<br>\n",
    "          Your letter h occurs as the first letter: 3 times</body><br>\n",
    "</ol>"
   ]
  },
  {
   "cell_type": "code",
   "execution_count": 43,
   "id": "34510176",
   "metadata": {},
   "outputs": [
    {
     "name": "stdout",
     "output_type": "stream",
     "text": [
      "Enter your line of text: Where the mind is without fear and the head is held high\n",
      "Enter your letter to use: h\n",
      "Your letter h occurs as the first letter: 3 times\n"
     ]
    }
   ],
   "source": [
    "def func(line,letter):                                                                 #Defined function\n",
    "    count = 0                                                                          #counter initialized\n",
    "    for word in line:                                                                  #Loop and condition checking\n",
    "        if word[0] == letter:\n",
    "            count +=1\n",
    "    print('Your letter', letter,'occurs as the first letter:',count, 'times')          #Printing the outcome of the result\n",
    "\n",
    "try:                                                                                   #try block\n",
    "    import re                                                                          #importing library\n",
    "    s = input(\"Enter your line of text: \").lower()                                     #Taking inputs from user, converting it to lower case and further splitting it.\n",
    "    s1 = re.sub('[^a-zA-Z.\\d\\s]', '', s).split()\n",
    "    s2 = input(\"Enter your letter to use: \").lower()\n",
    "    if ((not s2) or (not s1)):                                                         \n",
    "        raise Exception('e')\n",
    "    times = func(s1,s2)                                                                #Function call\n",
    "except Exception as e:                                                                 #except block\n",
    "     print('Make sure you entered both the inputs correctly.')                         #print command if exception is raised"
   ]
  },
  {
   "cell_type": "code",
   "execution_count": null,
   "id": "8ae4ac5c",
   "metadata": {},
   "outputs": [],
   "source": []
  },
  {
   "cell_type": "markdown",
   "id": "e97e87b1",
   "metadata": {},
   "source": [
    "<ol>\n",
    "    <body><b>Question 4:</b> A palindrome is string that reads the same forwards and backwards. Write a Python program that reads in a string and determines whether the string is a palindrome or not. Note that a sentence that reads the same forwards and backwards by resequencing the spaces is also a palindrome and your program should consider this.\n",
    "    Sample runs are shown below:</body><br>\n",
    "    <body>Enter a string: mom <br>\n",
    "          “mom” is a palindrome</body><br>\n",
    "    <body>Enter a string: apple <br>\n",
    "          “apple” is not a palindrome</body><br>\n",
    "    <body>Enter a string: A nut for a jar of tuna<br>\n",
    "          “A nut for a jar of tuna” is a palindrome</body><br>\n",
    "    <body>Enter a string: A nut for a jar of salmon<br>\n",
    "          “A nut for a jar of salmon” is not a palindrome</body><br>\n",
    "</ol>"
   ]
  },
  {
   "cell_type": "code",
   "execution_count": 49,
   "id": "5a4ce7eb",
   "metadata": {},
   "outputs": [
    {
     "name": "stdout",
     "output_type": "stream",
     "text": [
      "Enter a string: A nut for a jar of tuna\n",
      "\" A nut for a jar of tuna \" is a palindrome\n"
     ]
    }
   ],
   "source": [
    "str = input(\"Enter a string: \")                                       #Taking input from user\n",
    "str1 = \"\".join(char for char in str.lower() if char.isalnum())        #Iterating over user's input converting to lowercase, checking its elements, joining them and storing in a variable\n",
    "\n",
    "c_str = \"\".join(reversed(str1))                                       #Reversing the user's input, joining its elements and storing it in another variable\n",
    "\n",
    "if str1 == c_str:                                                     #If-else block starts, condition check begins\n",
    "    print('\"',str,'\" is a palindrome')                                #Print when condition is true\n",
    "else:                                                                 \n",
    "    print('\"',str,'\" is not a palindrome')                            #Print when condition is false"
   ]
  },
  {
   "cell_type": "code",
   "execution_count": null,
   "id": "6767ea56",
   "metadata": {},
   "outputs": [],
   "source": []
  },
  {
   "cell_type": "markdown",
   "id": "919b70ef",
   "metadata": {},
   "source": [
    "<ol>\n",
    "    <body><b>Question 5:</b>Write a program to request a file name from the user and calculate the following statistics of the contents of the file:</body>\n",
    "        <ul>\n",
    "        <li>Number of lines</li>\n",
    "        <li>Number of words</li>\n",
    "        <li>Number of characters</li>\n",
    "        <li>Average length of a word</li>\n",
    "        </ul>\n",
    "    <body>In this problem use the following definitions:<br>\n",
    "          A line is a sequence of characters that end with a newline (\\n) character<br>\n",
    "          A word bounded by one or more spaces (or \\n) on either side of it (or both sides)<br>\n",
    "          A character is any single length string, e.g. ‘a’, ‘-‘, etc. but not a space (or white space)<br>\n",
    "          An example file called robertfrost.txt is included in the homework files Sample Run:</body><br>\n",
    "    <body>What is the filename: robertfrost.txt <br>\n",
    "          Number of lines: 4<br> \n",
    "          Number of words: 27<br> \n",
    "          Number of characters: 103<br> \n",
    "          Average length of a word: 3.8</body><br>\n",
    "</ol>"
   ]
  },
  {
   "cell_type": "code",
   "execution_count": 2,
   "id": "3cf354ec",
   "metadata": {},
   "outputs": [
    {
     "name": "stdout",
     "output_type": "stream",
     "text": [
      "What is the filename: robertfrost.txt\n",
      "Number of lines: 4\n",
      "Number of words: 27\n",
      "Number of characters: 103\n",
      "Average length of a word: 3.8\n"
     ]
    }
   ],
   "source": [
    "def filedetails(filename):                                                       #defining function for getting file details \n",
    "    line_count = 0                                                               #line counter initialized to 0\n",
    "    word_count = 0                                                               #word counter initialized to 0\n",
    "    char_count = 0                                                               #char counter initialized to 0\n",
    "    \n",
    "    with open(filename) as read_file:                                            #opening a file and reading it\n",
    "        for content in read_file:                                                #for loop started\n",
    "            line_count += 1                                                      #counting lines in the file and incrementing line counter\n",
    "            \n",
    "            word_count += len(content.split(' '))                                #splitting content of the file, counting the words and incrementing the word counter\n",
    "            \n",
    "            chars = content.replace(' ','').replace('\\n','')                     #replacing blank space, escapse character from file content, storing the content to another variable\n",
    "            char_count += len(chars)                                             #then counting these filtered characters and incrementing the char counter\n",
    "            \n",
    "            Avg = round((char_count/word_count),1)                               #calculating the average length of words and rounding it to one decimal place\n",
    "    \n",
    "    print (\"Number of lines:\",line_count)                                        #print the count of lines\n",
    "    print (\"Number of words:\",word_count)                                        #print the count of words\n",
    "    print (\"Number of characters:\",char_count)                                   #print the count of characters\n",
    "    print (\"Average length of a word:\",Avg)                                      #print the average length of words\n",
    "    \n",
    "try:                                                                             #try-except block\n",
    "    file = input(\"What is the filename: \")                                       #Taking filename from user\n",
    "    filedetails(file)                                                            #function call for fetching the details of file\n",
    "\n",
    "except:\n",
    "    print(file,'file cannot be opened. Invalid filename.')                       #print statement when exception is raised\n",
    "    quit()"
   ]
  },
  {
   "cell_type": "markdown",
   "id": "3ef36b5c",
   "metadata": {},
   "source": []
  }
 ],
 "metadata": {
  "kernelspec": {
   "display_name": "Python 3 (ipykernel)",
   "language": "python",
   "name": "python3"
  },
  "language_info": {
   "codemirror_mode": {
    "name": "ipython",
    "version": 3
   },
   "file_extension": ".py",
   "mimetype": "text/x-python",
   "name": "python",
   "nbconvert_exporter": "python",
   "pygments_lexer": "ipython3",
   "version": "3.9.13"
  }
 },
 "nbformat": 4,
 "nbformat_minor": 5
}
